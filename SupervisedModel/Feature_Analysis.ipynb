{
 "cells": [
  {
   "cell_type": "markdown",
   "metadata": {},
   "source": [
    "# Feature Analysis \n",
    "Here I will train a sci-kit learn RandomForestRegressor on our events training dataset and evaluate two aspects of the model: feature importances and feature ablation. "
   ]
  },
  {
   "cell_type": "code",
   "execution_count": 1,
   "metadata": {},
   "outputs": [],
   "source": [
    "# Imports\n",
    "import pandas as pd\n",
    "from sklearn.preprocessing import StandardScaler\n",
    "from sklearn.ensemble import RandomForestRegressor\n",
    "import numpy as np\n",
    "\n",
    "# Bring in training and validation data \n",
    "training_data = pd.read_parquet('assets/training_set_v2.parquet')\n",
    "validation_data = pd.read_parquet('assets/validation_set_v2.parquet')"
   ]
  },
  {
   "cell_type": "markdown",
   "metadata": {},
   "source": [
    "### Standardize data and train model"
   ]
  },
  {
   "cell_type": "code",
   "execution_count": 2,
   "metadata": {},
   "outputs": [],
   "source": [
    "# Drop unwanted columns\n",
    "columns_to_drop = ['ItemKey', 'RWB_EFFECTIVE_DATE']\n",
    "X_train = training_data.drop(columns=['events'] + columns_to_drop, axis=1)\n",
    "X_val = validation_data.drop(columns=['events'] + columns_to_drop, axis=1)\n",
    "\n",
    "# Scale the data \n",
    "scaler = StandardScaler()\n",
    "X_train_std = scaler.fit_transform(X_train)\n",
    "X_val_std = scaler.transform(X_val)\n",
    "\n",
    "# Train random forest model\n",
    "model = RandomForestRegressor()\n",
    "model.fit(X_train_std, training_data['events'])\n",
    "\n",
    "# Get top 10 feature importances from sklearn .featureimportances attribute\n",
    "feature_importances = model.feature_importances_\n",
    "sorted_indices = np.argsort(feature_importances)[::-1]\n",
    "features_outfeat = [X_train.columns[idx] for idx in sorted_indices]\n",
    "importance_outfeat = [feature_importances[idx] for idx in sorted_indices]\n",
    "import_feat_df = pd.DataFrame({\"Feature\": features_outfeat, \"Value\": importance_outfeat})"
   ]
  },
  {
   "cell_type": "markdown",
   "metadata": {},
   "source": [
    "### Evaluate feature importance from the `.feature_importances_` method in sklearn"
   ]
  },
  {
   "cell_type": "code",
   "execution_count": 3,
   "metadata": {},
   "outputs": [
    {
     "data": {
      "application/vnd.plotly.v1+json": {
       "config": {
        "plotlyServerURL": "https://plot.ly"
       },
       "data": [
        {
         "alignmentgroup": "True",
         "hovertemplate": "Value=%{x}<br>Feature=%{y}<extra></extra>",
         "legendgroup": "",
         "marker": {
          "color": "#636efa",
          "pattern": {
           "shape": ""
          }
         },
         "name": "",
         "offsetgroup": "",
         "orientation": "h",
         "showlegend": false,
         "textposition": "auto",
         "type": "bar",
         "x": [
          0.10473030541272382,
          0.09196595547469906,
          0.07324957679947823,
          0.056822233213221905,
          0.05409427774234271,
          0.05396211104056136,
          0.046013912134864006,
          0.04537041183439559,
          0.044062214672578405,
          0.03501569088762067,
          0.02905610282761107,
          0.028266741622576412,
          0.027468160572212342,
          0.023482241500574683,
          0.02182633788417813,
          0.021783680998954655,
          0.021125913849171382,
          0.020967062018868353,
          0.0204825791091153,
          0.01973348594539937,
          0.01703814728510078,
          0.01381199698108371,
          0.01267529992869172,
          0.011724717559384264,
          0.011341263984124828,
          0.0060716016990019885,
          0.005919636466919178,
          0.0050404210520124835,
          0.004986925156686425,
          0.004979744907061559,
          0.004329010659419063,
          0.0040623299461013986,
          0.004031099251640141,
          0.003967778024323594,
          0.00391534347503759,
          0.0038539510549164676,
          0.003590318332462289,
          0.003512551617960747,
          0.0034258880537109304,
          0.0034176824597077216,
          0.0030389689136737885,
          0.003030235552303916,
          0.002706459521569367,
          0.002633590153458948,
          0.002238838976498359,
          0.002103634347605362,
          0.0016562609569061892,
          0.0011859294847816506,
          0.001091984264163706,
          0.0010533780592156203,
          0.0009339562806429409,
          0.0008255732118572174,
          0.0007297315941201565,
          0.0006835638258632482,
          0.0006786631585270613,
          0.0006782774225434172,
          0.0005804529098418377,
          0.000532258636113947,
          0.00040668679377189166,
          0.000379993300879984,
          0.00025441720168394407,
          0.00023484706993667177,
          0.00017918522162353585,
          0.00011003242801415307,
          0.00010765587324530561,
          0.0001024852151491145,
          0.00009556613591100952,
          0.00008975882673357169,
          0.00008690514585701152,
          0.00007950177155225047,
          0.00007867771202864299,
          0.00005948198746180001,
          0.00004942302096955217,
          0.000043510390119552665,
          0.000025831842753143225,
          0.000024641292074930746,
          0.000016371451534985288,
          0.000010282520568200628,
          0.0000061546626096198154,
          0.0000012857878899267399,
          3.256730714131502e-7,
          1.3477342247611397e-7,
          1.2619213545279338e-7,
          1.0622070377993983e-7,
          9.008581133104043e-8,
          6.06963058209202e-8,
          0,
          0,
          0,
          0
         ],
         "xaxis": "x",
         "y": [
          "Days Since Creation",
          "avg_software_age",
          "FreeSpace_GB",
          "Outlookx86_addin_filesize",
          "Days Since Last Logon",
          "Wordx64_addin_filesize",
          "num_installed_programs",
          "InstallAge",
          "Outlookx64_addin_filesize",
          "LastBootAge",
          "num_updates",
          "BIOSReleaseAge",
          "Excelx86_addin_filesize",
          "Total RAM",
          "PowerPointx86_addin_filesize",
          "Wordx86_addin_filesize",
          "num_users",
          "msedge_usage",
          "LastHWScan_Days",
          "chrome_usage",
          "Excelx64_addin_filesize",
          "num_x86addins",
          "TotalVirtualMemorySize00",
          "has_cap_iq_add",
          "num_x64addins",
          "Total Page File Space",
          "Model_Latitude 7300",
          "Model_OptiPlex 5070",
          "EstimatedRunTime00",
          "PowerPointx64_addin_filesize",
          "Model_Latitude 5510",
          "num_windows_64_os_updates",
          "AvgProcessorNormSpeed",
          "Has32BitMacro",
          "Has64BitMacro",
          "Has32BitOffice97_2003Files",
          "num_office_updates",
          "Has64BitOffice97_2003Files",
          "Model_Latitude 7320",
          "x86add_avgloadtime",
          "iexplore_usage",
          "has_bloomberg_add",
          "Battery_Power",
          "AC_Power",
          "Model_Latitude 9520",
          "Model_Latitude 9510",
          "TotalSpace_GB",
          "Model_Precision Tower 3431",
          "OneNotex64_addin_filesize",
          "has_powerbi",
          "has_acrobat_add",
          "Model_Precision 3561",
          "Is_Virtual_Machine0",
          "is_32bit_office",
          "is_64bit_office",
          "Model_OptiPlex 5060",
          "OneNotex86_addin_filesize",
          "CaseType_Desktop",
          "CaseType_Laptop",
          "has_bluematrix_add",
          "Model_Precision Tower 3430",
          "Model_Latitude 5500",
          "x64add_avgloadtime",
          "Model_Precision 3450",
          "has_factset_add",
          "Model_Precision 3571",
          "Model_Surface Pro 7+",
          "CaseType_Others",
          "firefox_usage",
          "Model_Latitude 5590",
          "Model_Latitude 7320 Detachable",
          "Model_Surface Pro 7",
          "Model_Latitude 7330",
          "Publisherx86_addin_filesize",
          "Model_Latitude 7530",
          "Model_Latitude 7290",
          "Model_OptiPlex 5050",
          "Model_Latitude E7270",
          "Model_Latitude 7340",
          "Model_Precision 7680",
          "NumCPUs",
          "Model_Precision 5760",
          "Accessx86_addin_filesize",
          "Model_VMware Virtual Platform",
          "Model_Latitude E7470",
          "Client0",
          "Model_VMware7,1",
          "Model_Virtual Machine",
          "Model_OptiPlex 5080",
          "Active0"
         ],
         "yaxis": "y"
        }
       ],
       "layout": {
        "barmode": "relative",
        "legend": {
         "tracegroupgap": 0
        },
        "template": {
         "data": {
          "bar": [
           {
            "error_x": {
             "color": "#2a3f5f"
            },
            "error_y": {
             "color": "#2a3f5f"
            },
            "marker": {
             "line": {
              "color": "#E5ECF6",
              "width": 0.5
             },
             "pattern": {
              "fillmode": "overlay",
              "size": 10,
              "solidity": 0.2
             }
            },
            "type": "bar"
           }
          ],
          "barpolar": [
           {
            "marker": {
             "line": {
              "color": "#E5ECF6",
              "width": 0.5
             },
             "pattern": {
              "fillmode": "overlay",
              "size": 10,
              "solidity": 0.2
             }
            },
            "type": "barpolar"
           }
          ],
          "carpet": [
           {
            "aaxis": {
             "endlinecolor": "#2a3f5f",
             "gridcolor": "white",
             "linecolor": "white",
             "minorgridcolor": "white",
             "startlinecolor": "#2a3f5f"
            },
            "baxis": {
             "endlinecolor": "#2a3f5f",
             "gridcolor": "white",
             "linecolor": "white",
             "minorgridcolor": "white",
             "startlinecolor": "#2a3f5f"
            },
            "type": "carpet"
           }
          ],
          "choropleth": [
           {
            "colorbar": {
             "outlinewidth": 0,
             "ticks": ""
            },
            "type": "choropleth"
           }
          ],
          "contour": [
           {
            "colorbar": {
             "outlinewidth": 0,
             "ticks": ""
            },
            "colorscale": [
             [
              0,
              "#0d0887"
             ],
             [
              0.1111111111111111,
              "#46039f"
             ],
             [
              0.2222222222222222,
              "#7201a8"
             ],
             [
              0.3333333333333333,
              "#9c179e"
             ],
             [
              0.4444444444444444,
              "#bd3786"
             ],
             [
              0.5555555555555556,
              "#d8576b"
             ],
             [
              0.6666666666666666,
              "#ed7953"
             ],
             [
              0.7777777777777778,
              "#fb9f3a"
             ],
             [
              0.8888888888888888,
              "#fdca26"
             ],
             [
              1,
              "#f0f921"
             ]
            ],
            "type": "contour"
           }
          ],
          "contourcarpet": [
           {
            "colorbar": {
             "outlinewidth": 0,
             "ticks": ""
            },
            "type": "contourcarpet"
           }
          ],
          "heatmap": [
           {
            "colorbar": {
             "outlinewidth": 0,
             "ticks": ""
            },
            "colorscale": [
             [
              0,
              "#0d0887"
             ],
             [
              0.1111111111111111,
              "#46039f"
             ],
             [
              0.2222222222222222,
              "#7201a8"
             ],
             [
              0.3333333333333333,
              "#9c179e"
             ],
             [
              0.4444444444444444,
              "#bd3786"
             ],
             [
              0.5555555555555556,
              "#d8576b"
             ],
             [
              0.6666666666666666,
              "#ed7953"
             ],
             [
              0.7777777777777778,
              "#fb9f3a"
             ],
             [
              0.8888888888888888,
              "#fdca26"
             ],
             [
              1,
              "#f0f921"
             ]
            ],
            "type": "heatmap"
           }
          ],
          "heatmapgl": [
           {
            "colorbar": {
             "outlinewidth": 0,
             "ticks": ""
            },
            "colorscale": [
             [
              0,
              "#0d0887"
             ],
             [
              0.1111111111111111,
              "#46039f"
             ],
             [
              0.2222222222222222,
              "#7201a8"
             ],
             [
              0.3333333333333333,
              "#9c179e"
             ],
             [
              0.4444444444444444,
              "#bd3786"
             ],
             [
              0.5555555555555556,
              "#d8576b"
             ],
             [
              0.6666666666666666,
              "#ed7953"
             ],
             [
              0.7777777777777778,
              "#fb9f3a"
             ],
             [
              0.8888888888888888,
              "#fdca26"
             ],
             [
              1,
              "#f0f921"
             ]
            ],
            "type": "heatmapgl"
           }
          ],
          "histogram": [
           {
            "marker": {
             "pattern": {
              "fillmode": "overlay",
              "size": 10,
              "solidity": 0.2
             }
            },
            "type": "histogram"
           }
          ],
          "histogram2d": [
           {
            "colorbar": {
             "outlinewidth": 0,
             "ticks": ""
            },
            "colorscale": [
             [
              0,
              "#0d0887"
             ],
             [
              0.1111111111111111,
              "#46039f"
             ],
             [
              0.2222222222222222,
              "#7201a8"
             ],
             [
              0.3333333333333333,
              "#9c179e"
             ],
             [
              0.4444444444444444,
              "#bd3786"
             ],
             [
              0.5555555555555556,
              "#d8576b"
             ],
             [
              0.6666666666666666,
              "#ed7953"
             ],
             [
              0.7777777777777778,
              "#fb9f3a"
             ],
             [
              0.8888888888888888,
              "#fdca26"
             ],
             [
              1,
              "#f0f921"
             ]
            ],
            "type": "histogram2d"
           }
          ],
          "histogram2dcontour": [
           {
            "colorbar": {
             "outlinewidth": 0,
             "ticks": ""
            },
            "colorscale": [
             [
              0,
              "#0d0887"
             ],
             [
              0.1111111111111111,
              "#46039f"
             ],
             [
              0.2222222222222222,
              "#7201a8"
             ],
             [
              0.3333333333333333,
              "#9c179e"
             ],
             [
              0.4444444444444444,
              "#bd3786"
             ],
             [
              0.5555555555555556,
              "#d8576b"
             ],
             [
              0.6666666666666666,
              "#ed7953"
             ],
             [
              0.7777777777777778,
              "#fb9f3a"
             ],
             [
              0.8888888888888888,
              "#fdca26"
             ],
             [
              1,
              "#f0f921"
             ]
            ],
            "type": "histogram2dcontour"
           }
          ],
          "mesh3d": [
           {
            "colorbar": {
             "outlinewidth": 0,
             "ticks": ""
            },
            "type": "mesh3d"
           }
          ],
          "parcoords": [
           {
            "line": {
             "colorbar": {
              "outlinewidth": 0,
              "ticks": ""
             }
            },
            "type": "parcoords"
           }
          ],
          "pie": [
           {
            "automargin": true,
            "type": "pie"
           }
          ],
          "scatter": [
           {
            "fillpattern": {
             "fillmode": "overlay",
             "size": 10,
             "solidity": 0.2
            },
            "type": "scatter"
           }
          ],
          "scatter3d": [
           {
            "line": {
             "colorbar": {
              "outlinewidth": 0,
              "ticks": ""
             }
            },
            "marker": {
             "colorbar": {
              "outlinewidth": 0,
              "ticks": ""
             }
            },
            "type": "scatter3d"
           }
          ],
          "scattercarpet": [
           {
            "marker": {
             "colorbar": {
              "outlinewidth": 0,
              "ticks": ""
             }
            },
            "type": "scattercarpet"
           }
          ],
          "scattergeo": [
           {
            "marker": {
             "colorbar": {
              "outlinewidth": 0,
              "ticks": ""
             }
            },
            "type": "scattergeo"
           }
          ],
          "scattergl": [
           {
            "marker": {
             "colorbar": {
              "outlinewidth": 0,
              "ticks": ""
             }
            },
            "type": "scattergl"
           }
          ],
          "scattermapbox": [
           {
            "marker": {
             "colorbar": {
              "outlinewidth": 0,
              "ticks": ""
             }
            },
            "type": "scattermapbox"
           }
          ],
          "scatterpolar": [
           {
            "marker": {
             "colorbar": {
              "outlinewidth": 0,
              "ticks": ""
             }
            },
            "type": "scatterpolar"
           }
          ],
          "scatterpolargl": [
           {
            "marker": {
             "colorbar": {
              "outlinewidth": 0,
              "ticks": ""
             }
            },
            "type": "scatterpolargl"
           }
          ],
          "scatterternary": [
           {
            "marker": {
             "colorbar": {
              "outlinewidth": 0,
              "ticks": ""
             }
            },
            "type": "scatterternary"
           }
          ],
          "surface": [
           {
            "colorbar": {
             "outlinewidth": 0,
             "ticks": ""
            },
            "colorscale": [
             [
              0,
              "#0d0887"
             ],
             [
              0.1111111111111111,
              "#46039f"
             ],
             [
              0.2222222222222222,
              "#7201a8"
             ],
             [
              0.3333333333333333,
              "#9c179e"
             ],
             [
              0.4444444444444444,
              "#bd3786"
             ],
             [
              0.5555555555555556,
              "#d8576b"
             ],
             [
              0.6666666666666666,
              "#ed7953"
             ],
             [
              0.7777777777777778,
              "#fb9f3a"
             ],
             [
              0.8888888888888888,
              "#fdca26"
             ],
             [
              1,
              "#f0f921"
             ]
            ],
            "type": "surface"
           }
          ],
          "table": [
           {
            "cells": {
             "fill": {
              "color": "#EBF0F8"
             },
             "line": {
              "color": "white"
             }
            },
            "header": {
             "fill": {
              "color": "#C8D4E3"
             },
             "line": {
              "color": "white"
             }
            },
            "type": "table"
           }
          ]
         },
         "layout": {
          "annotationdefaults": {
           "arrowcolor": "#2a3f5f",
           "arrowhead": 0,
           "arrowwidth": 1
          },
          "autotypenumbers": "strict",
          "coloraxis": {
           "colorbar": {
            "outlinewidth": 0,
            "ticks": ""
           }
          },
          "colorscale": {
           "diverging": [
            [
             0,
             "#8e0152"
            ],
            [
             0.1,
             "#c51b7d"
            ],
            [
             0.2,
             "#de77ae"
            ],
            [
             0.3,
             "#f1b6da"
            ],
            [
             0.4,
             "#fde0ef"
            ],
            [
             0.5,
             "#f7f7f7"
            ],
            [
             0.6,
             "#e6f5d0"
            ],
            [
             0.7,
             "#b8e186"
            ],
            [
             0.8,
             "#7fbc41"
            ],
            [
             0.9,
             "#4d9221"
            ],
            [
             1,
             "#276419"
            ]
           ],
           "sequential": [
            [
             0,
             "#0d0887"
            ],
            [
             0.1111111111111111,
             "#46039f"
            ],
            [
             0.2222222222222222,
             "#7201a8"
            ],
            [
             0.3333333333333333,
             "#9c179e"
            ],
            [
             0.4444444444444444,
             "#bd3786"
            ],
            [
             0.5555555555555556,
             "#d8576b"
            ],
            [
             0.6666666666666666,
             "#ed7953"
            ],
            [
             0.7777777777777778,
             "#fb9f3a"
            ],
            [
             0.8888888888888888,
             "#fdca26"
            ],
            [
             1,
             "#f0f921"
            ]
           ],
           "sequentialminus": [
            [
             0,
             "#0d0887"
            ],
            [
             0.1111111111111111,
             "#46039f"
            ],
            [
             0.2222222222222222,
             "#7201a8"
            ],
            [
             0.3333333333333333,
             "#9c179e"
            ],
            [
             0.4444444444444444,
             "#bd3786"
            ],
            [
             0.5555555555555556,
             "#d8576b"
            ],
            [
             0.6666666666666666,
             "#ed7953"
            ],
            [
             0.7777777777777778,
             "#fb9f3a"
            ],
            [
             0.8888888888888888,
             "#fdca26"
            ],
            [
             1,
             "#f0f921"
            ]
           ]
          },
          "colorway": [
           "#636efa",
           "#EF553B",
           "#00cc96",
           "#ab63fa",
           "#FFA15A",
           "#19d3f3",
           "#FF6692",
           "#B6E880",
           "#FF97FF",
           "#FECB52"
          ],
          "font": {
           "color": "#2a3f5f"
          },
          "geo": {
           "bgcolor": "white",
           "lakecolor": "white",
           "landcolor": "#E5ECF6",
           "showlakes": true,
           "showland": true,
           "subunitcolor": "white"
          },
          "hoverlabel": {
           "align": "left"
          },
          "hovermode": "closest",
          "mapbox": {
           "style": "light"
          },
          "paper_bgcolor": "white",
          "plot_bgcolor": "#E5ECF6",
          "polar": {
           "angularaxis": {
            "gridcolor": "white",
            "linecolor": "white",
            "ticks": ""
           },
           "bgcolor": "#E5ECF6",
           "radialaxis": {
            "gridcolor": "white",
            "linecolor": "white",
            "ticks": ""
           }
          },
          "scene": {
           "xaxis": {
            "backgroundcolor": "#E5ECF6",
            "gridcolor": "white",
            "gridwidth": 2,
            "linecolor": "white",
            "showbackground": true,
            "ticks": "",
            "zerolinecolor": "white"
           },
           "yaxis": {
            "backgroundcolor": "#E5ECF6",
            "gridcolor": "white",
            "gridwidth": 2,
            "linecolor": "white",
            "showbackground": true,
            "ticks": "",
            "zerolinecolor": "white"
           },
           "zaxis": {
            "backgroundcolor": "#E5ECF6",
            "gridcolor": "white",
            "gridwidth": 2,
            "linecolor": "white",
            "showbackground": true,
            "ticks": "",
            "zerolinecolor": "white"
           }
          },
          "shapedefaults": {
           "line": {
            "color": "#2a3f5f"
           }
          },
          "ternary": {
           "aaxis": {
            "gridcolor": "white",
            "linecolor": "white",
            "ticks": ""
           },
           "baxis": {
            "gridcolor": "white",
            "linecolor": "white",
            "ticks": ""
           },
           "bgcolor": "#E5ECF6",
           "caxis": {
            "gridcolor": "white",
            "linecolor": "white",
            "ticks": ""
           }
          },
          "title": {
           "x": 0.05
          },
          "xaxis": {
           "automargin": true,
           "gridcolor": "white",
           "linecolor": "white",
           "ticks": "",
           "title": {
            "standoff": 15
           },
           "zerolinecolor": "white",
           "zerolinewidth": 2
          },
          "yaxis": {
           "automargin": true,
           "gridcolor": "white",
           "linecolor": "white",
           "ticks": "",
           "title": {
            "standoff": 15
           },
           "zerolinecolor": "white",
           "zerolinewidth": 2
          }
         }
        },
        "title": {
         "text": "Top 10 Feature Importances from RandomForestRegressor"
        },
        "xaxis": {
         "anchor": "y",
         "domain": [
          0,
          1
         ],
         "title": {
          "text": "Value"
         }
        },
        "yaxis": {
         "anchor": "x",
         "domain": [
          0,
          1
         ],
         "title": {
          "text": "Feature"
         }
        }
       }
      }
     },
     "metadata": {},
     "output_type": "display_data"
    }
   ],
   "source": [
    "import plotly.express as px\n",
    "\n",
    "def create_feat_import_bar_chart(data_frame, x_column, y_column, title=\"Bar Chart\"):\n",
    "    \"\"\"\n",
    "    Create a bar chart using Plotly Express.\n",
    "    \"\"\"\n",
    "    sorted_df = data_frame.sort_values(by=y_column, ascending=True)\n",
    "    fig = px.bar(data_frame, x=x_column, y=y_column, title=title)\n",
    "    return fig\n",
    "\n",
    "# Call the function to create the bar chart\n",
    "bar_chart = create_feat_import_bar_chart(import_feat_df, \n",
    "                                         x_column='Value',\n",
    "                                          y_column='Feature', \n",
    "                                          title='Top 10 Feature Importances from RandomForestRegressor')\n",
    "\n",
    "# Show the chart\n",
    "bar_chart.show()"
   ]
  },
  {
   "cell_type": "markdown",
   "metadata": {},
   "source": [
    "### Perform feature ablation analysis "
   ]
  },
  {
   "cell_type": "code",
   "execution_count": null,
   "metadata": {},
   "outputs": [],
   "source": [
    "from sklearn.model_selection import cross_val_score\n",
    "\n",
    "def peform_feature_ablation(model, X_train, X_train_std):\n",
    "\n",
    "    # Get the features and feature importances from the \n",
    "    # first model run in ascending order\n",
    "    feature_importances = model.feature_importances_\n",
    "    sorted_indices = np.argsort(feature_importances)\n",
    "    features_outfeat = [X_train.columns[idx] for idx in sorted_indices]\n",
    "\n",
    "    # Declare a list of all features \n",
    "    train_features = list(X_train.columns)\n",
    "\n",
    "    mae_scores = []\n",
    "    num_features = []\n",
    "\n",
    "    # Train a model with all feautures and assess via cross validation \n",
    "    mae_cv = -np.mean(cross_val_score(RandomForestRegressor(), \n",
    "                                      X_train_std, \n",
    "                                      X_train['events'],\n",
    "                                      scoring='neg_mean_absolute_error',\n",
    "                                        cv=5))\n",
    "    \n",
    "    mae_scores.append(mae_cv)\n",
    "    num_features.append(len(train_features))\n",
    "\n",
    "    # Starting with the lowest feature importance, \n",
    "    # remove the feature and assess results via cross validation\n",
    "    for i, feature in enumerate(features_outfeat):\n",
    "\n",
    "        # remove the feature from the data \n",
    "        remove_ind = train_features.index(feature)\n",
    "        train_features.remove(feature)\n",
    "\n",
    "        # Use array slicing and indexing to remove the specified column\n",
    "        X_train_std = np.delete(X_train_std, remove_ind, axis=1)\n",
    "        \n",
    "        # Train a model with all feautures and assess via cross validation \n",
    "        mae_cv = -np.mean(cross_val_score(RandomForestRegressor(), \n",
    "                                        X_train_std, \n",
    "                                        X_train['events'],\n",
    "                                        scoring='neg_mean_absolute_error',\n",
    "                                            cv=5))\n",
    "        \n",
    "        print(f'completed cross val for {i+1} run(s) of feature ablation')\n",
    "        \n",
    "        mae_scores.append(mae_cv)\n",
    "        num_features.append(len(train_features))\n",
    "\n",
    "        if len(train_features) == 10:\n",
    "            break\n",
    "\n",
    "    ablation_results = pd.DataFrame({\"Number_of_Features\": num_features,\n",
    "                                     \"CV_MAE\": mae_scores})\n",
    "        \n",
    "    return ablation_results\n",
    "\n",
    "abla_df = peform_feature_ablation(model, training_data, X_train_std)\n",
    "abla_df.to_excel('assets/ablation_results.xlsx', index= False)"
   ]
  },
  {
   "cell_type": "code",
   "execution_count": 48,
   "metadata": {},
   "outputs": [
    {
     "data": {
      "application/vnd.plotly.v1+json": {
       "config": {
        "plotlyServerURL": "https://plot.ly"
       },
       "data": [
        {
         "hovertemplate": "Number_of_Features=%{x}<br>diff_mae=%{y}<extra></extra>",
         "legendgroup": "",
         "line": {
          "color": "blue",
          "dash": "solid",
          "width": 0.9
         },
         "marker": {
          "symbol": "circle"
         },
         "mode": "lines",
         "name": "",
         "orientation": "v",
         "showlegend": false,
         "type": "scatter",
         "x": [
          93,
          92,
          91,
          90,
          89,
          88,
          87,
          86,
          85,
          84,
          83,
          82,
          81,
          80,
          79,
          78,
          77,
          76,
          75,
          74,
          73,
          72,
          71,
          70,
          69,
          68,
          67,
          66,
          65,
          64,
          63,
          62,
          61,
          60,
          59,
          58,
          57,
          56,
          55,
          54,
          53,
          52,
          51,
          50,
          49,
          48,
          47,
          46,
          45,
          44,
          43,
          42,
          41,
          40,
          39,
          38,
          37,
          36,
          35,
          34,
          33,
          32,
          31,
          30,
          29,
          28,
          27,
          26,
          25,
          24,
          23,
          22,
          21,
          20,
          19,
          18,
          17,
          16,
          15,
          14,
          13,
          12,
          11,
          10
         ],
         "xaxis": "x",
         "y": [
          -2.3957013195463617e-7,
          0.00042668435329296095,
          0.0002843258346920674,
          0.00003696950335507765,
          -0.0012218228250540086,
          0.0003092198691010406,
          0.0005497288879539042,
          -0.0001137730747720056,
          0.0011725792235670607,
          0.0017485008113979905,
          0.0007715874399900624,
          -0.00013955906244200733,
          -0.0010519492790259655,
          0.00020992080943993408,
          -0.0007154196395309231,
          -0.00019252585814899525,
          0.00027304427081009663,
          0.0004234533823650466,
          -0.0007296633854700918,
          -0.0018231085546169812,
          0.0014660127912009546,
          0.0007173484120419626,
          -0.0002955866425360387,
          -0.00007131553129102741,
          0.0023248496687040543,
          -0.0006330717716229728,
          0.0010657002287219886,
          0.001269079592475908,
          0.001557789728964032,
          0.0000975569107719565,
          -0.0019046921652259297,
          0.0020284151366749548,
          -0.0002272454391520906,
          -0.00014573751521407274,
          0.00002287476706808178,
          0.0009414309946680355,
          -0.00038879140329095563,
          0.00006508483536893372,
          -0.0008603024179150154,
          0.0010065439227040507,
          0.0021002249914219284,
          -0.00022881577164701739,
          0.0003322360726629725,
          -0.0008855739628730319,
          0.001216898359664098,
          -0.00032116745051991025,
          0.0009194064322139983,
          -0.0010268410068130507,
          -0.0008304950071440498,
          -0.0027340074766371014,
          -0.00133050357552289,
          -0.0005345555468980745,
          0.0012349029075180429,
          -0.0000036586892209200528,
          -0.0013539536053730483,
          0.0017453499064450373,
          0.0035948807069579036,
          0.00407189508162209,
          0.003653918172759063,
          0.001973233983701972,
          0.0022258222715780818,
          0.004224674133098905,
          0.003001702096556036,
          0.003355327533870023,
          0.003682850499896917,
          0.0037230834299610827,
          0.006095708286073975,
          0.004638512332852063,
          0.004461337945230959,
          0.0023296021279159973,
          0.004800191092696915,
          0.0037851224672680317,
          0.009107167911958092,
          0.007820750846875058,
          0.0076403594842899825,
          0.007838573147699979,
          0.009121446805653965,
          0.010393006876574962,
          0.013046369626092957,
          0.013069366822991091,
          0.016859068645108,
          0.021763425980227957,
          0.028480514106034915,
          0.04299008888150291
         ],
         "yaxis": "y"
        }
       ],
       "layout": {
        "annotations": [
         {
          "font": {
           "size": 14
          },
          "showarrow": false,
          "text": "Baseline Average WMAE = 1.33",
          "x": 1,
          "xref": "paper",
          "y": 0.005,
          "yref": "y"
         }
        ],
        "height": 400,
        "legend": {
         "tracegroupgap": 0
        },
        "margin": {
         "t": 60
        },
        "shapes": [
         {
          "line": {
           "color": "orange",
           "dash": "dash",
           "width": 5
          },
          "type": "line",
          "x0": 10,
          "x1": 93,
          "y0": 0,
          "y1": 0
         }
        ],
        "template": {
         "data": {
          "bar": [
           {
            "error_x": {
             "color": "rgb(36,36,36)"
            },
            "error_y": {
             "color": "rgb(36,36,36)"
            },
            "marker": {
             "line": {
              "color": "white",
              "width": 0.5
             },
             "pattern": {
              "fillmode": "overlay",
              "size": 10,
              "solidity": 0.2
             }
            },
            "type": "bar"
           }
          ],
          "barpolar": [
           {
            "marker": {
             "line": {
              "color": "white",
              "width": 0.5
             },
             "pattern": {
              "fillmode": "overlay",
              "size": 10,
              "solidity": 0.2
             }
            },
            "type": "barpolar"
           }
          ],
          "carpet": [
           {
            "aaxis": {
             "endlinecolor": "rgb(36,36,36)",
             "gridcolor": "white",
             "linecolor": "white",
             "minorgridcolor": "white",
             "startlinecolor": "rgb(36,36,36)"
            },
            "baxis": {
             "endlinecolor": "rgb(36,36,36)",
             "gridcolor": "white",
             "linecolor": "white",
             "minorgridcolor": "white",
             "startlinecolor": "rgb(36,36,36)"
            },
            "type": "carpet"
           }
          ],
          "choropleth": [
           {
            "colorbar": {
             "outlinewidth": 1,
             "tickcolor": "rgb(36,36,36)",
             "ticks": "outside"
            },
            "type": "choropleth"
           }
          ],
          "contour": [
           {
            "colorbar": {
             "outlinewidth": 1,
             "tickcolor": "rgb(36,36,36)",
             "ticks": "outside"
            },
            "colorscale": [
             [
              0,
              "#440154"
             ],
             [
              0.1111111111111111,
              "#482878"
             ],
             [
              0.2222222222222222,
              "#3e4989"
             ],
             [
              0.3333333333333333,
              "#31688e"
             ],
             [
              0.4444444444444444,
              "#26828e"
             ],
             [
              0.5555555555555556,
              "#1f9e89"
             ],
             [
              0.6666666666666666,
              "#35b779"
             ],
             [
              0.7777777777777778,
              "#6ece58"
             ],
             [
              0.8888888888888888,
              "#b5de2b"
             ],
             [
              1,
              "#fde725"
             ]
            ],
            "type": "contour"
           }
          ],
          "contourcarpet": [
           {
            "colorbar": {
             "outlinewidth": 1,
             "tickcolor": "rgb(36,36,36)",
             "ticks": "outside"
            },
            "type": "contourcarpet"
           }
          ],
          "heatmap": [
           {
            "colorbar": {
             "outlinewidth": 1,
             "tickcolor": "rgb(36,36,36)",
             "ticks": "outside"
            },
            "colorscale": [
             [
              0,
              "#440154"
             ],
             [
              0.1111111111111111,
              "#482878"
             ],
             [
              0.2222222222222222,
              "#3e4989"
             ],
             [
              0.3333333333333333,
              "#31688e"
             ],
             [
              0.4444444444444444,
              "#26828e"
             ],
             [
              0.5555555555555556,
              "#1f9e89"
             ],
             [
              0.6666666666666666,
              "#35b779"
             ],
             [
              0.7777777777777778,
              "#6ece58"
             ],
             [
              0.8888888888888888,
              "#b5de2b"
             ],
             [
              1,
              "#fde725"
             ]
            ],
            "type": "heatmap"
           }
          ],
          "heatmapgl": [
           {
            "colorbar": {
             "outlinewidth": 1,
             "tickcolor": "rgb(36,36,36)",
             "ticks": "outside"
            },
            "colorscale": [
             [
              0,
              "#440154"
             ],
             [
              0.1111111111111111,
              "#482878"
             ],
             [
              0.2222222222222222,
              "#3e4989"
             ],
             [
              0.3333333333333333,
              "#31688e"
             ],
             [
              0.4444444444444444,
              "#26828e"
             ],
             [
              0.5555555555555556,
              "#1f9e89"
             ],
             [
              0.6666666666666666,
              "#35b779"
             ],
             [
              0.7777777777777778,
              "#6ece58"
             ],
             [
              0.8888888888888888,
              "#b5de2b"
             ],
             [
              1,
              "#fde725"
             ]
            ],
            "type": "heatmapgl"
           }
          ],
          "histogram": [
           {
            "marker": {
             "line": {
              "color": "white",
              "width": 0.6
             }
            },
            "type": "histogram"
           }
          ],
          "histogram2d": [
           {
            "colorbar": {
             "outlinewidth": 1,
             "tickcolor": "rgb(36,36,36)",
             "ticks": "outside"
            },
            "colorscale": [
             [
              0,
              "#440154"
             ],
             [
              0.1111111111111111,
              "#482878"
             ],
             [
              0.2222222222222222,
              "#3e4989"
             ],
             [
              0.3333333333333333,
              "#31688e"
             ],
             [
              0.4444444444444444,
              "#26828e"
             ],
             [
              0.5555555555555556,
              "#1f9e89"
             ],
             [
              0.6666666666666666,
              "#35b779"
             ],
             [
              0.7777777777777778,
              "#6ece58"
             ],
             [
              0.8888888888888888,
              "#b5de2b"
             ],
             [
              1,
              "#fde725"
             ]
            ],
            "type": "histogram2d"
           }
          ],
          "histogram2dcontour": [
           {
            "colorbar": {
             "outlinewidth": 1,
             "tickcolor": "rgb(36,36,36)",
             "ticks": "outside"
            },
            "colorscale": [
             [
              0,
              "#440154"
             ],
             [
              0.1111111111111111,
              "#482878"
             ],
             [
              0.2222222222222222,
              "#3e4989"
             ],
             [
              0.3333333333333333,
              "#31688e"
             ],
             [
              0.4444444444444444,
              "#26828e"
             ],
             [
              0.5555555555555556,
              "#1f9e89"
             ],
             [
              0.6666666666666666,
              "#35b779"
             ],
             [
              0.7777777777777778,
              "#6ece58"
             ],
             [
              0.8888888888888888,
              "#b5de2b"
             ],
             [
              1,
              "#fde725"
             ]
            ],
            "type": "histogram2dcontour"
           }
          ],
          "mesh3d": [
           {
            "colorbar": {
             "outlinewidth": 1,
             "tickcolor": "rgb(36,36,36)",
             "ticks": "outside"
            },
            "type": "mesh3d"
           }
          ],
          "parcoords": [
           {
            "line": {
             "colorbar": {
              "outlinewidth": 1,
              "tickcolor": "rgb(36,36,36)",
              "ticks": "outside"
             }
            },
            "type": "parcoords"
           }
          ],
          "pie": [
           {
            "automargin": true,
            "type": "pie"
           }
          ],
          "scatter": [
           {
            "fillpattern": {
             "fillmode": "overlay",
             "size": 10,
             "solidity": 0.2
            },
            "type": "scatter"
           }
          ],
          "scatter3d": [
           {
            "line": {
             "colorbar": {
              "outlinewidth": 1,
              "tickcolor": "rgb(36,36,36)",
              "ticks": "outside"
             }
            },
            "marker": {
             "colorbar": {
              "outlinewidth": 1,
              "tickcolor": "rgb(36,36,36)",
              "ticks": "outside"
             }
            },
            "type": "scatter3d"
           }
          ],
          "scattercarpet": [
           {
            "marker": {
             "colorbar": {
              "outlinewidth": 1,
              "tickcolor": "rgb(36,36,36)",
              "ticks": "outside"
             }
            },
            "type": "scattercarpet"
           }
          ],
          "scattergeo": [
           {
            "marker": {
             "colorbar": {
              "outlinewidth": 1,
              "tickcolor": "rgb(36,36,36)",
              "ticks": "outside"
             }
            },
            "type": "scattergeo"
           }
          ],
          "scattergl": [
           {
            "marker": {
             "colorbar": {
              "outlinewidth": 1,
              "tickcolor": "rgb(36,36,36)",
              "ticks": "outside"
             }
            },
            "type": "scattergl"
           }
          ],
          "scattermapbox": [
           {
            "marker": {
             "colorbar": {
              "outlinewidth": 1,
              "tickcolor": "rgb(36,36,36)",
              "ticks": "outside"
             }
            },
            "type": "scattermapbox"
           }
          ],
          "scatterpolar": [
           {
            "marker": {
             "colorbar": {
              "outlinewidth": 1,
              "tickcolor": "rgb(36,36,36)",
              "ticks": "outside"
             }
            },
            "type": "scatterpolar"
           }
          ],
          "scatterpolargl": [
           {
            "marker": {
             "colorbar": {
              "outlinewidth": 1,
              "tickcolor": "rgb(36,36,36)",
              "ticks": "outside"
             }
            },
            "type": "scatterpolargl"
           }
          ],
          "scatterternary": [
           {
            "marker": {
             "colorbar": {
              "outlinewidth": 1,
              "tickcolor": "rgb(36,36,36)",
              "ticks": "outside"
             }
            },
            "type": "scatterternary"
           }
          ],
          "surface": [
           {
            "colorbar": {
             "outlinewidth": 1,
             "tickcolor": "rgb(36,36,36)",
             "ticks": "outside"
            },
            "colorscale": [
             [
              0,
              "#440154"
             ],
             [
              0.1111111111111111,
              "#482878"
             ],
             [
              0.2222222222222222,
              "#3e4989"
             ],
             [
              0.3333333333333333,
              "#31688e"
             ],
             [
              0.4444444444444444,
              "#26828e"
             ],
             [
              0.5555555555555556,
              "#1f9e89"
             ],
             [
              0.6666666666666666,
              "#35b779"
             ],
             [
              0.7777777777777778,
              "#6ece58"
             ],
             [
              0.8888888888888888,
              "#b5de2b"
             ],
             [
              1,
              "#fde725"
             ]
            ],
            "type": "surface"
           }
          ],
          "table": [
           {
            "cells": {
             "fill": {
              "color": "rgb(237,237,237)"
             },
             "line": {
              "color": "white"
             }
            },
            "header": {
             "fill": {
              "color": "rgb(217,217,217)"
             },
             "line": {
              "color": "white"
             }
            },
            "type": "table"
           }
          ]
         },
         "layout": {
          "annotationdefaults": {
           "arrowhead": 0,
           "arrowwidth": 1
          },
          "autotypenumbers": "strict",
          "coloraxis": {
           "colorbar": {
            "outlinewidth": 1,
            "tickcolor": "rgb(36,36,36)",
            "ticks": "outside"
           }
          },
          "colorscale": {
           "diverging": [
            [
             0,
             "rgb(103,0,31)"
            ],
            [
             0.1,
             "rgb(178,24,43)"
            ],
            [
             0.2,
             "rgb(214,96,77)"
            ],
            [
             0.3,
             "rgb(244,165,130)"
            ],
            [
             0.4,
             "rgb(253,219,199)"
            ],
            [
             0.5,
             "rgb(247,247,247)"
            ],
            [
             0.6,
             "rgb(209,229,240)"
            ],
            [
             0.7,
             "rgb(146,197,222)"
            ],
            [
             0.8,
             "rgb(67,147,195)"
            ],
            [
             0.9,
             "rgb(33,102,172)"
            ],
            [
             1,
             "rgb(5,48,97)"
            ]
           ],
           "sequential": [
            [
             0,
             "#440154"
            ],
            [
             0.1111111111111111,
             "#482878"
            ],
            [
             0.2222222222222222,
             "#3e4989"
            ],
            [
             0.3333333333333333,
             "#31688e"
            ],
            [
             0.4444444444444444,
             "#26828e"
            ],
            [
             0.5555555555555556,
             "#1f9e89"
            ],
            [
             0.6666666666666666,
             "#35b779"
            ],
            [
             0.7777777777777778,
             "#6ece58"
            ],
            [
             0.8888888888888888,
             "#b5de2b"
            ],
            [
             1,
             "#fde725"
            ]
           ],
           "sequentialminus": [
            [
             0,
             "#440154"
            ],
            [
             0.1111111111111111,
             "#482878"
            ],
            [
             0.2222222222222222,
             "#3e4989"
            ],
            [
             0.3333333333333333,
             "#31688e"
            ],
            [
             0.4444444444444444,
             "#26828e"
            ],
            [
             0.5555555555555556,
             "#1f9e89"
            ],
            [
             0.6666666666666666,
             "#35b779"
            ],
            [
             0.7777777777777778,
             "#6ece58"
            ],
            [
             0.8888888888888888,
             "#b5de2b"
            ],
            [
             1,
             "#fde725"
            ]
           ]
          },
          "colorway": [
           "#1F77B4",
           "#FF7F0E",
           "#2CA02C",
           "#D62728",
           "#9467BD",
           "#8C564B",
           "#E377C2",
           "#7F7F7F",
           "#BCBD22",
           "#17BECF"
          ],
          "font": {
           "color": "rgb(36,36,36)"
          },
          "geo": {
           "bgcolor": "white",
           "lakecolor": "white",
           "landcolor": "white",
           "showlakes": true,
           "showland": true,
           "subunitcolor": "white"
          },
          "hoverlabel": {
           "align": "left"
          },
          "hovermode": "closest",
          "mapbox": {
           "style": "light"
          },
          "paper_bgcolor": "white",
          "plot_bgcolor": "white",
          "polar": {
           "angularaxis": {
            "gridcolor": "rgb(232,232,232)",
            "linecolor": "rgb(36,36,36)",
            "showgrid": false,
            "showline": true,
            "ticks": "outside"
           },
           "bgcolor": "white",
           "radialaxis": {
            "gridcolor": "rgb(232,232,232)",
            "linecolor": "rgb(36,36,36)",
            "showgrid": false,
            "showline": true,
            "ticks": "outside"
           }
          },
          "scene": {
           "xaxis": {
            "backgroundcolor": "white",
            "gridcolor": "rgb(232,232,232)",
            "gridwidth": 2,
            "linecolor": "rgb(36,36,36)",
            "showbackground": true,
            "showgrid": false,
            "showline": true,
            "ticks": "outside",
            "zeroline": false,
            "zerolinecolor": "rgb(36,36,36)"
           },
           "yaxis": {
            "backgroundcolor": "white",
            "gridcolor": "rgb(232,232,232)",
            "gridwidth": 2,
            "linecolor": "rgb(36,36,36)",
            "showbackground": true,
            "showgrid": false,
            "showline": true,
            "ticks": "outside",
            "zeroline": false,
            "zerolinecolor": "rgb(36,36,36)"
           },
           "zaxis": {
            "backgroundcolor": "white",
            "gridcolor": "rgb(232,232,232)",
            "gridwidth": 2,
            "linecolor": "rgb(36,36,36)",
            "showbackground": true,
            "showgrid": false,
            "showline": true,
            "ticks": "outside",
            "zeroline": false,
            "zerolinecolor": "rgb(36,36,36)"
           }
          },
          "shapedefaults": {
           "fillcolor": "black",
           "line": {
            "width": 0
           },
           "opacity": 0.3
          },
          "ternary": {
           "aaxis": {
            "gridcolor": "rgb(232,232,232)",
            "linecolor": "rgb(36,36,36)",
            "showgrid": false,
            "showline": true,
            "ticks": "outside"
           },
           "baxis": {
            "gridcolor": "rgb(232,232,232)",
            "linecolor": "rgb(36,36,36)",
            "showgrid": false,
            "showline": true,
            "ticks": "outside"
           },
           "bgcolor": "white",
           "caxis": {
            "gridcolor": "rgb(232,232,232)",
            "linecolor": "rgb(36,36,36)",
            "showgrid": false,
            "showline": true,
            "ticks": "outside"
           }
          },
          "title": {
           "x": 0.05
          },
          "xaxis": {
           "automargin": true,
           "gridcolor": "rgb(232,232,232)",
           "linecolor": "rgb(36,36,36)",
           "showgrid": false,
           "showline": true,
           "ticks": "outside",
           "title": {
            "standoff": 15
           },
           "zeroline": false,
           "zerolinecolor": "rgb(36,36,36)"
          },
          "yaxis": {
           "automargin": true,
           "gridcolor": "rgb(232,232,232)",
           "linecolor": "rgb(36,36,36)",
           "showgrid": false,
           "showline": true,
           "ticks": "outside",
           "title": {
            "standoff": 15
           },
           "zeroline": false,
           "zerolinecolor": "rgb(36,36,36)"
          }
         }
        },
        "width": 600,
        "xaxis": {
         "anchor": "y",
         "domain": [
          0,
          1
         ],
         "showgrid": false,
         "tickvals": [
          10,
          20,
          30,
          40,
          50,
          60,
          70,
          80,
          90
         ],
         "title": {
          "text": "Number of Features"
         }
        },
        "yaxis": {
         "anchor": "x",
         "domain": [
          0,
          1
         ],
         "title": {
          "text": "Change in Baseline Average WMAE"
         }
        }
       }
      }
     },
     "metadata": {},
     "output_type": "display_data"
    }
   ],
   "source": [
    "\n",
    "import plotly.graph_objects as go\n",
    "\n",
    "def visualize_ablation_results(in_df, baseline):\n",
    "\n",
    "    in_df['diff_mae'] = in_df['CV_MAE'] - baseline\n",
    "\n",
    "    fig = px.line(in_df, x='Number_of_Features', y='diff_mae')\n",
    "    fig.update_xaxes(title_text='Number of Features')\n",
    "    fig.update_yaxes(title_text='Change in Baseline Average WMAE')\n",
    "    fig.update_traces(line=dict(color='blue', width=0.9))\n",
    "    \n",
    "    # Adding a horizontal dashed line at y=0\n",
    "    fig.add_shape(\n",
    "        type=\"line\",\n",
    "        x0=in_df['Number_of_Features'].min(),\n",
    "        x1=in_df['Number_of_Features'].max(),\n",
    "        y0=0,\n",
    "        y1=0,\n",
    "        line=dict(color=\"orange\", width=5, dash=\"dash\"),\n",
    "    )\n",
    "\n",
    "    # Customize layout\n",
    "    fig.update_layout(\n",
    "        template='simple_white', # Set background color to white\n",
    "          xaxis=dict(\n",
    "            showgrid=False,  # Turn off x-axis gridlines\n",
    "            tickvals=[10, 20, 30, 40, 50, 60, 70, 80, 90],    # Set tick value at x=10\n",
    "        ), \n",
    "        height=400,  # Set the height of the graph\n",
    "        width=600,\n",
    "    )\n",
    "    \n",
    "    # Adding the annotation\n",
    "    fig.add_annotation(\n",
    "        text=\"Baseline Average WMAE = 1.33\",\n",
    "        xref=\"paper\", yref=\"y\",\n",
    "        x=1, y=0.005,  # Adjust the y value as needed\n",
    "        showarrow=False,\n",
    "        font=dict(size=14),\n",
    "    )\n",
    "    \n",
    "    return fig\n",
    "\n",
    "baseline = 1.355545\n",
    "fig = visualize_ablation_results(abla_df, baseline)\n",
    "fig.show()\n"
   ]
  },
  {
   "cell_type": "markdown",
   "metadata": {},
   "source": [
    "### Retrain model on top 10 features, get SHAP feature importances \n",
    "! warning ! this takes ~9 hours to run."
   ]
  },
  {
   "cell_type": "code",
   "execution_count": 2,
   "metadata": {},
   "outputs": [],
   "source": [
    "selected_features =  [\n",
    "    'Days Since Creation',\n",
    "    'avg_software_age',\n",
    "    'FreeSpace_GB',\n",
    "    'Outlookx86_addin_filesize',\n",
    "    'Wordx64_addin_filesize',\n",
    "    'Days Since Last Logon',\n",
    "    'num_installed_programs',\n",
    "    'Outlookx64_addin_filesize',\n",
    "    'InstallAge',\n",
    "    'LastBootAge',\n",
    "    'Excelx86_addin_filesize',\n",
    "    'has_cap_iq_add'\n",
    "]\n",
    "\n",
    "final_model = {'bootstrap': False,\n",
    " 'max_depth': 250,\n",
    " 'max_features': 'log2',\n",
    " 'min_samples_leaf': 5,\n",
    " 'min_samples_split': 2,\n",
    " 'n_estimators': 450}"
   ]
  },
  {
   "cell_type": "code",
   "execution_count": 3,
   "metadata": {},
   "outputs": [
    {
     "data": {
      "text/html": [
       "<style>#sk-container-id-1 {color: black;background-color: white;}#sk-container-id-1 pre{padding: 0;}#sk-container-id-1 div.sk-toggleable {background-color: white;}#sk-container-id-1 label.sk-toggleable__label {cursor: pointer;display: block;width: 100%;margin-bottom: 0;padding: 0.3em;box-sizing: border-box;text-align: center;}#sk-container-id-1 label.sk-toggleable__label-arrow:before {content: \"▸\";float: left;margin-right: 0.25em;color: #696969;}#sk-container-id-1 label.sk-toggleable__label-arrow:hover:before {color: black;}#sk-container-id-1 div.sk-estimator:hover label.sk-toggleable__label-arrow:before {color: black;}#sk-container-id-1 div.sk-toggleable__content {max-height: 0;max-width: 0;overflow: hidden;text-align: left;background-color: #f0f8ff;}#sk-container-id-1 div.sk-toggleable__content pre {margin: 0.2em;color: black;border-radius: 0.25em;background-color: #f0f8ff;}#sk-container-id-1 input.sk-toggleable__control:checked~div.sk-toggleable__content {max-height: 200px;max-width: 100%;overflow: auto;}#sk-container-id-1 input.sk-toggleable__control:checked~label.sk-toggleable__label-arrow:before {content: \"▾\";}#sk-container-id-1 div.sk-estimator input.sk-toggleable__control:checked~label.sk-toggleable__label {background-color: #d4ebff;}#sk-container-id-1 div.sk-label input.sk-toggleable__control:checked~label.sk-toggleable__label {background-color: #d4ebff;}#sk-container-id-1 input.sk-hidden--visually {border: 0;clip: rect(1px 1px 1px 1px);clip: rect(1px, 1px, 1px, 1px);height: 1px;margin: -1px;overflow: hidden;padding: 0;position: absolute;width: 1px;}#sk-container-id-1 div.sk-estimator {font-family: monospace;background-color: #f0f8ff;border: 1px dotted black;border-radius: 0.25em;box-sizing: border-box;margin-bottom: 0.5em;}#sk-container-id-1 div.sk-estimator:hover {background-color: #d4ebff;}#sk-container-id-1 div.sk-parallel-item::after {content: \"\";width: 100%;border-bottom: 1px solid gray;flex-grow: 1;}#sk-container-id-1 div.sk-label:hover label.sk-toggleable__label {background-color: #d4ebff;}#sk-container-id-1 div.sk-serial::before {content: \"\";position: absolute;border-left: 1px solid gray;box-sizing: border-box;top: 0;bottom: 0;left: 50%;z-index: 0;}#sk-container-id-1 div.sk-serial {display: flex;flex-direction: column;align-items: center;background-color: white;padding-right: 0.2em;padding-left: 0.2em;position: relative;}#sk-container-id-1 div.sk-item {position: relative;z-index: 1;}#sk-container-id-1 div.sk-parallel {display: flex;align-items: stretch;justify-content: center;background-color: white;position: relative;}#sk-container-id-1 div.sk-item::before, #sk-container-id-1 div.sk-parallel-item::before {content: \"\";position: absolute;border-left: 1px solid gray;box-sizing: border-box;top: 0;bottom: 0;left: 50%;z-index: -1;}#sk-container-id-1 div.sk-parallel-item {display: flex;flex-direction: column;z-index: 1;position: relative;background-color: white;}#sk-container-id-1 div.sk-parallel-item:first-child::after {align-self: flex-end;width: 50%;}#sk-container-id-1 div.sk-parallel-item:last-child::after {align-self: flex-start;width: 50%;}#sk-container-id-1 div.sk-parallel-item:only-child::after {width: 0;}#sk-container-id-1 div.sk-dashed-wrapped {border: 1px dashed gray;margin: 0 0.4em 0.5em 0.4em;box-sizing: border-box;padding-bottom: 0.4em;background-color: white;}#sk-container-id-1 div.sk-label label {font-family: monospace;font-weight: bold;display: inline-block;line-height: 1.2em;}#sk-container-id-1 div.sk-label-container {text-align: center;}#sk-container-id-1 div.sk-container {/* jupyter's `normalize.less` sets `[hidden] { display: none; }` but bootstrap.min.css set `[hidden] { display: none !important; }` so we also need the `!important` here to be able to override the default hidden behavior on the sphinx rendered scikit-learn.org. See: https://github.com/scikit-learn/scikit-learn/issues/21755 */display: inline-block !important;position: relative;}#sk-container-id-1 div.sk-text-repr-fallback {display: none;}</style><div id=\"sk-container-id-1\" class=\"sk-top-container\"><div class=\"sk-text-repr-fallback\"><pre>RandomForestRegressor(bootstrap=False, max_depth=250, max_features=&#x27;log2&#x27;,\n",
       "                      min_samples_leaf=5, n_estimators=450)</pre><b>In a Jupyter environment, please rerun this cell to show the HTML representation or trust the notebook. <br />On GitHub, the HTML representation is unable to render, please try loading this page with nbviewer.org.</b></div><div class=\"sk-container\" hidden><div class=\"sk-item\"><div class=\"sk-estimator sk-toggleable\"><input class=\"sk-toggleable__control sk-hidden--visually\" id=\"sk-estimator-id-1\" type=\"checkbox\" checked><label for=\"sk-estimator-id-1\" class=\"sk-toggleable__label sk-toggleable__label-arrow\">RandomForestRegressor</label><div class=\"sk-toggleable__content\"><pre>RandomForestRegressor(bootstrap=False, max_depth=250, max_features=&#x27;log2&#x27;,\n",
       "                      min_samples_leaf=5, n_estimators=450)</pre></div></div></div></div></div>"
      ],
      "text/plain": [
       "RandomForestRegressor(bootstrap=False, max_depth=250, max_features='log2',\n",
       "                      min_samples_leaf=5, n_estimators=450)"
      ]
     },
     "execution_count": 3,
     "metadata": {},
     "output_type": "execute_result"
    }
   ],
   "source": [
    "# Drop unwanted columns\n",
    "columns_to_drop = ['ItemKey', 'RWB_EFFECTIVE_DATE']\n",
    "X_train = training_data.drop(columns=['events'] + columns_to_drop, axis=1)\n",
    "X_train = X_train[selected_features]\n",
    "X_val = validation_data.drop(columns=['events'] + columns_to_drop, axis=1)\n",
    "X_val = X_val[selected_features]\n",
    "\n",
    "# Scale the data \n",
    "scaler = StandardScaler()\n",
    "X_train_std = scaler.fit_transform(X_train)\n",
    "X_val_std = scaler.transform(X_val)\n",
    "\n",
    "# Train random forest model\n",
    "model = RandomForestRegressor(**final_model)\n",
    "model.fit(X_train_std, training_data['events'])"
   ]
  },
  {
   "cell_type": "markdown",
   "metadata": {},
   "source": [
    "### What is the MAE and RMSE of the model trained on only the top 12 features?"
   ]
  },
  {
   "cell_type": "code",
   "execution_count": 4,
   "metadata": {},
   "outputs": [
    {
     "name": "stdout",
     "output_type": "stream",
     "text": [
      "RMSE: 1.472632329150987 \n",
      " MAE: 1.098899897207095\n"
     ]
    }
   ],
   "source": [
    "from sklearn.metrics import mean_squared_error, mean_absolute_error\n",
    "\n",
    "predictions_test = model.predict(X_val_std)\n",
    "\n",
    "# Round predictions (can't have 0.5 number of incidents)\n",
    "predictions_test = np.round(predictions_test)\n",
    "\n",
    "mse_test = mean_squared_error(validation_data['events'], predictions_test)\n",
    "rmse_test = np.sqrt(mse_test)\n",
    "mae_test = mean_absolute_error(validation_data['events'], predictions_test)\n",
    "print(f'RMSE: {rmse_test} \\n MAE: {mae_test}')"
   ]
  },
  {
   "cell_type": "code",
   "execution_count": 5,
   "metadata": {},
   "outputs": [],
   "source": [
    "# Read numpy file\n",
    "shap_values = np.load('assets/SHAP_values_run2.npy')"
   ]
  },
  {
   "cell_type": "code",
   "execution_count": 6,
   "metadata": {},
   "outputs": [
    {
     "name": "stderr",
     "output_type": "stream",
     "text": [
      "Using `tqdm.autonotebook.tqdm` in notebook mode. Use `tqdm.tqdm` instead to force console mode (e.g. in jupyter console)\n"
     ]
    },
    {
     "data": {
      "image/png": "[encoded data removed]",
      "text/plain": [
       "<Figure size 800x630 with 1 Axes>"
      ]
     },
     "metadata": {},
     "output_type": "display_data"
    }
   ],
   "source": [
    "import shap\n",
    "explainer = shap.TreeExplainer(model)\n",
    "# shap_values = explainer.shap_values(X_train) # started at 7:30 PM CST 7/13\n",
    "shap.summary_plot(shap_values, X_train, plot_type=\"bar\")"
   ]
  },
  {
   "cell_type": "code",
   "execution_count": 7,
   "metadata": {},
   "outputs": [
    {
     "name": "stderr",
     "output_type": "stream",
     "text": [
      "No data for colormapping provided via 'c'. Parameters 'vmin', 'vmax' will be ignored\n"
     ]
    },
    {
     "data": {
      "image/png": "[encoded data removed]",
      "text/plain": [
       "<Figure size 800x630 with 2 Axes>"
      ]
     },
     "metadata": {},
     "output_type": "display_data"
    }
   ],
   "source": [
    "shap.summary_plot(shap_values, X_train, feature_names=X_train.columns)"
   ]
  },
  {
   "cell_type": "markdown",
   "metadata": {},
   "source": [
    "### Assess prediction and error contribution\n",
    "Adapted from the following article: \n",
    "https://medium.com/towards-data-science/your-features-are-important-it-doesnt-mean-they-are-good-ff468ae2e3d4"
   ]
  },
  {
   "cell_type": "code",
   "execution_count": 8,
   "metadata": {},
   "outputs": [
    {
     "ename": "AttributeError",
     "evalue": "'numpy.ndarray' object has no attribute 'apply'",
     "output_type": "error",
     "traceback": [
      "\u001b[0;31m---------------------------------------------------------------------------\u001b[0m",
      "\u001b[0;31mAttributeError\u001b[0m                            Traceback (most recent call last)",
      "Cell \u001b[0;32mIn[8], line 5\u001b[0m\n\u001b[1;32m      2\u001b[0m y_train_preds \u001b[39m=\u001b[39m model\u001b[39m.\u001b[39mpredict(X_train_std)\n\u001b[1;32m      4\u001b[0m \u001b[39m# Get the prediction contribution\u001b[39;00m\n\u001b[0;32m----> 5\u001b[0m y_pred_wo_feature \u001b[39m=\u001b[39m shap_values\u001b[39m.\u001b[39;49mapply(\u001b[39mlambda\u001b[39;00m feature: y_train_preds \u001b[39m-\u001b[39m feature)\n\u001b[1;32m      6\u001b[0m abs_error_wo_feature \u001b[39m=\u001b[39m y_pred_wo_feature\u001b[39m.\u001b[39mapply(\u001b[39mlambda\u001b[39;00m feature: (training_data[\u001b[39m'\u001b[39m\u001b[39mevents\u001b[39m\u001b[39m'\u001b[39m] \u001b[39m-\u001b[39m feature)\u001b[39m.\u001b[39mabs())\n\u001b[1;32m      8\u001b[0m \u001b[39m# Get the absolute error \u001b[39;00m\n",
      "\u001b[0;31mAttributeError\u001b[0m: 'numpy.ndarray' object has no attribute 'apply'"
     ]
    }
   ],
   "source": [
    "# Get the training predictions \n",
    "y_train_preds = model.predict(X_train_std)\n",
    "\n",
    "# Get the prediction contribution - PUT THIS IN A DATAFRAME \n",
    "y_pred_wo_feature = shap_values.apply(lambda feature: y_train_preds - feature)\n",
    "abs_error_wo_feature = y_pred_wo_feature.apply(lambda feature: (training_data['events'] - feature).abs())\n",
    "\n",
    "# Get the absolute error \n",
    "abs_error = np.abs(training_data['events'] - y_train_preds)\n",
    "\n",
    "# # Get the error contribution\n",
    "# error_diff = abs_error_wo_feature.apply(lambda feature: abs_error - feature)\n",
    "# error_contribution = error_diff.mean()"
   ]
  },
  {
   "cell_type": "code",
   "execution_count": 12,
   "metadata": {},
   "outputs": [
    {
     "name": "stdout",
     "output_type": "stream",
     "text": [
      "Index(['Days Since Creation', 'avg_software_age', 'FreeSpace_GB',\n",
      "       'Outlookx86_addin_filesize', 'Wordx64_addin_filesize',\n",
      "       'Days Since Last Logon', 'num_installed_programs',\n",
      "       'Outlookx64_addin_filesize', 'InstallAge', 'LastBootAge',\n",
      "       'Excelx86_addin_filesize', 'has_cap_iq_add'],\n",
      "      dtype='object')\n"
     ]
    }
   ],
   "source": [
    "print(X_train.columns)"
   ]
  },
  {
   "cell_type": "code",
   "execution_count": 11,
   "metadata": {},
   "outputs": [
    {
     "data": {
      "image/png": "[encoded data removed]",
      "text/plain": [
       "<Figure size 750x500 with 2 Axes>"
      ]
     },
     "metadata": {},
     "output_type": "display_data"
    }
   ],
   "source": [
    "shap.dependence_plot(\"Outlookx64_addin_filesize\", shap_values, X_train)"
   ]
  },
  {
   "cell_type": "markdown",
   "metadata": {},
   "source": [
    "## What is the weighted MAE score for the training set?"
   ]
  },
  {
   "cell_type": "code",
   "execution_count": 14,
   "metadata": {},
   "outputs": [],
   "source": [
    "from sklearn.metrics import make_scorer\n",
    "from sklearn.model_selection import cross_val_score\n",
    "\n",
    "# Define the custom scoring function\n",
    "def weighted_mae_fun(y_true, y_pred):\n",
    "    errors = np.abs(y_true - y_pred)\n",
    "\n",
    "    # Errors for 0 num events are 0.5 times as important \n",
    "    # Errors for 1 num events are 1 times as important \n",
    "    # Errors for 2 or more num events are 3 times as important \n",
    "    sample_weights = np.where(y_true == 0, 0.5, np.where(y_true == 1, 1, 3)) \n",
    "    weighted_errors = sample_weights * errors\n",
    "    weighted_mae_score = np.sum(weighted_errors) / np.sum(sample_weights)\n",
    "    return np.mean(weighted_mae_score)\n",
    "\n",
    "# Create a scorer using the custom scoring function\n",
    "scorer = make_scorer(weighted_mae_fun, greater_is_better=False, needs_proba=False)\n",
    "\n",
    "\n",
    "# Perform cross-validation\n",
    "scores = cross_val_score(model, X_train_std, training_data['events'], cv=5, scoring=scorer)\n",
    "\n",
    "# Display the cross-validation results\n",
    "print(f\"Mean weighted MAE score: \", np.mean(-scores))  # Convert back to positive values"
   ]
  },
  {
   "cell_type": "code",
   "execution_count": null,
   "metadata": {},
   "outputs": [],
   "source": [
    "import numpy as np\n",
    "import pandas as pd\n",
    "import plotly.express as px\n",
    "from sklearn.linear_model import LinearRegression\n",
    "from sklearn.metrics import mean_absolute_error\n",
    "\n",
    "def eval_predictions3(in_model, pred_df):\n",
    "\n",
    "    pred_df = pred_df.sort_values('True')\n",
    "\n",
    "    pred_df['indx'] = [val for val in list(range(len(pred_df)))]\n",
    "\n",
    "    # Create scatter plot\n",
    "    fig = px.scatter(pred_df, x='True', y='Predictions', title='Actual vs. Predicted',\n",
    "                 labels={'True': 'Actual Values', 'Predictions': 'Predicted Values'},\n",
    "                 hover_name=pred_df.index)\n",
    "    \n",
    "    # Add line of equality\n",
    "    fig.add_shape(type='line', line=dict(dash='dash'), x0=pred_df['True'].min(), x1=pred_df['True'].max(),\n",
    "                y0=pred_df['True'].min(), y1=pred_df['True'].max())\n",
    "    \n",
    "    # Update layout\n",
    "    fig.update_layout(showlegend=False)\n",
    "\n",
    "    return fig\n",
    "\n",
    "# Predict training set values \n",
    "predictions_train = model.predict(X_train_std)\n",
    "\n",
    "# Visualize results \n",
    "pred_df = pd.DataFrame({\"True\": training_data['events'], \"Predictions\": predictions_train})\n",
    "eval_predictions3(pred_df)"
   ]
  }
 ],
 "metadata": {
  "kernelspec": {
   "display_name": "Python 3",
   "language": "python",
   "name": "python3"
  },
  "language_info": {
   "codemirror_mode": {
    "name": "ipython",
    "version": 3
   },
   "file_extension": ".py",
   "mimetype": "text/x-python",
   "name": "python",
   "nbconvert_exporter": "python",
   "pygments_lexer": "ipython3",
   "version": "3.11.4"
  },
  "orig_nbformat": 4
 },
 "nbformat": 4,
 "nbformat_minor": 2
}
